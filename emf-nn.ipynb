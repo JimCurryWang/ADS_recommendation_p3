{
 "cells": [
  {
   "cell_type": "code",
   "execution_count": 1,
   "metadata": {},
   "outputs": [],
   "source": [
    "import pandas as pd\n",
    "import numpy as np\n",
    "\n",
    "import torch\n",
    "import torch.nn as nn\n",
    "from torch.utils.data import DataLoader\n",
    "# from torch.utils.data import *\n",
    "\n",
    "import time\n",
    "import random\n",
    "import re\n",
    "\n",
    "import matplotlib.pyplot as plt \n",
    "%matplotlib inline\n",
    "\n",
    "import pdb\n",
    "from tqdm.auto import tqdm"
   ]
  },
  {
   "cell_type": "markdown",
   "metadata": {},
   "source": [
    "# Data Detail"
   ]
  },
  {
   "cell_type": "markdown",
   "metadata": {},
   "source": [
    "```\n",
    "\n",
    "MovieLens data sets were collected by the GroupLens Research Project\n",
    "at the University of Minnesota.\n",
    " \n",
    "This data set consists of:\n",
    "* 100,000 ratings (1-5) from 943 users on 1682 movies. \n",
    "* Each user has rated at least 20 movies. \n",
    "* Simple demographic info for the users (age, gender, occupation, zip)\n",
    "        \n",
    "        \n",
    "u1.base    -- The data sets u1.base and u1.test through u5.base and u5.test\n",
    "u1.test       are 80%/20% splits of the u data into training and test data.\n",
    "u2.base       Each of u1, ..., u5 have disjoint test sets; this if for\n",
    "u2.test       5 fold cross validation (where you repeat your experiment\n",
    "u3.base       with each training and test set and average the results).\n",
    "u3.test       These data sets can be generated from u.data by mku.sh.\n",
    "u4.base\n",
    "u4.test\n",
    "u5.base\n",
    "u5.test\n",
    "\n",
    "\n",
    "\n",
    "u.data     -- The full u data set, 100000 ratings by 943 users on 1682 items.\n",
    "              Each user has rated at least 20 movies.  \n",
    "              Users and items are numbered consecutively from 1.  \n",
    "              The data is randomly ordered. \n",
    "              This is a tab separated list of user id | item id | rating | timestamp. \n",
    "              The time stamps are unix seconds since 1/1/1970 UTC   \n",
    "```"
   ]
  },
  {
   "cell_type": "markdown",
   "metadata": {},
   "source": [
    "# Import Function"
   ]
  },
  {
   "cell_type": "code",
   "execution_count": 2,
   "metadata": {},
   "outputs": [],
   "source": [
    "def load_data(filename):\n",
    "    data_list = []\n",
    "    with open(filename, 'r') as data:\n",
    "        for line in tqdm(data):\n",
    "            user_id, item_id, rating, timestamp = line.split('\\t')\n",
    "            data_list.append([int(user_id), int(item_id), int(rating)])\n",
    "            \n",
    "    print('data loading complete')\n",
    "    return data_list\n",
    "\n",
    "def torch_load_data(filename):\n",
    "    data_list = []\n",
    "    with open(filename, 'r') as data:\n",
    "        for line in tqdm(data):\n",
    "            user_id, item_id, rating, timestamp = line.split('\\t')\n",
    "            data_list.append(torch.tensor([int(user_id), int(item_id), int(rating)]))\n",
    "    print('data loading complete')\n",
    "    return data_list\n",
    "\n",
    "def torch_load_data_csv(filename='ml-latest-small/ratings.csv'):\n",
    "    '''user_id, item_id, rating, timestamp\n",
    "    '''\n",
    "    data_list = []\n",
    "    df = pd.read_csv(filename)\n",
    "    print(df.columns)\n",
    "    print(df.shape)\n",
    "    for line in df.values:\n",
    "        data_list.append(torch.tensor([int(line[0]), int(line[1]), int(line[2])]))\n",
    "    print('data loading complete')\n",
    "    return data_list\n",
    "\n",
    "\n",
    "def data_handler():\n",
    "    \n",
    "    def data():\n",
    "        data_list = []\n",
    "        filename = 'ml-100k/u.data'\n",
    "        with open(filename, 'r') as data:\n",
    "            for line in tqdm(data):\n",
    "                user_id, item_id, rating, timestamp = line.split('\\t')\n",
    "                data_list.append([int(user_id), int(item_id), int(rating), timestamp.strip()])\n",
    "        print('data loading complete')\n",
    "\n",
    "        df = pd.DataFrame(data_list, columns =['user_id', 'movie_id', 'rating', 'timestamp'])\n",
    "        return df \n",
    "    \n",
    "    def item():\n",
    "        data_list = []\n",
    "        filename = 'ml-100k/u.item'\n",
    "        with open(filename, 'r', encoding=\"ISO-8859-1\") as data:\n",
    "            for line in tqdm(data):\n",
    "                lst = line.split('|')\n",
    "                lst = [ele.strip() for ele in lst]\n",
    "                data_list.append(lst)\n",
    "\n",
    "        print('data loading complete')\n",
    "\n",
    "        columns = [ 'movie_id', 'movie_title', 'release_date', 'video_release_date', 'IMDb_URL', 'unknown', \\\n",
    "                    'Action', 'Adventure', 'Animation', 'Children', 'Comedy', 'Crime', 'Documentary', 'Drama', \\\n",
    "                    'Fantasy', 'Film-Noir', 'Horror', 'Musical', 'Mystery', 'Romance', 'Sci_Fi', 'Thriller', 'War', 'Western'] \n",
    "\n",
    "        df = pd.DataFrame(data_list, columns =columns)\n",
    "        return df \n",
    "    \n",
    "    data = data()\n",
    "    item = item()\n",
    "    return data, item"
   ]
  },
  {
   "cell_type": "markdown",
   "metadata": {},
   "source": [
    "# Load Data"
   ]
  },
  {
   "cell_type": "code",
   "execution_count": 3,
   "metadata": {},
   "outputs": [
    {
     "data": {
      "application/vnd.jupyter.widget-view+json": {
       "model_id": "58ba95bb69744e059a9bee7a0a6a9b96",
       "version_major": 2,
       "version_minor": 0
      },
      "text/plain": [
       "HBox(children=(FloatProgress(value=1.0, bar_style='info', max=1.0), HTML(value='')))"
      ]
     },
     "metadata": {},
     "output_type": "display_data"
    },
    {
     "name": "stdout",
     "output_type": "stream",
     "text": [
      "\n",
      "data loading complete\n"
     ]
    },
    {
     "data": {
      "application/vnd.jupyter.widget-view+json": {
       "model_id": "c30e3768a7c247c9befd262ab075c72f",
       "version_major": 2,
       "version_minor": 0
      },
      "text/plain": [
       "HBox(children=(FloatProgress(value=1.0, bar_style='info', max=1.0), HTML(value='')))"
      ]
     },
     "metadata": {},
     "output_type": "display_data"
    },
    {
     "name": "stdout",
     "output_type": "stream",
     "text": [
      "\n",
      "data loading complete\n"
     ]
    },
    {
     "data": {
      "application/vnd.jupyter.widget-view+json": {
       "model_id": "103206da5eec485ca8622a803ef76f1c",
       "version_major": 2,
       "version_minor": 0
      },
      "text/plain": [
       "HBox(children=(FloatProgress(value=1.0, bar_style='info', max=1.0), HTML(value='')))"
      ]
     },
     "metadata": {},
     "output_type": "display_data"
    },
    {
     "name": "stdout",
     "output_type": "stream",
     "text": [
      "\n",
      "data loading complete\n"
     ]
    }
   ],
   "source": [
    "train_data = load_data('ml-100k/u1.base')\n",
    "test_data = load_data('ml-100k/u1.test')\n",
    "data_list = torch_load_data('ml-100k/u.data')\n",
    "\n",
    "# data_list = torch_load_data_csv(filename='ml-latest-small/ratings.csv')    \n",
    "\n"
   ]
  },
  {
   "cell_type": "code",
   "execution_count": 4,
   "metadata": {},
   "outputs": [
    {
     "data": {
      "text/plain": [
       "100000"
      ]
     },
     "execution_count": 4,
     "metadata": {},
     "output_type": "execute_result"
    }
   ],
   "source": [
    "len(data_list)"
   ]
  },
  {
   "cell_type": "markdown",
   "metadata": {},
   "source": [
    "# Embedding mehtods for Matrix Factorization\n",
    "\n",
    "$$r_{ui}=u+b_i+b_u+ q_i^Tp_u$$\n",
    "\n",
    "$$ u = \\text {Constant denoting the over all average rating} $$\n",
    "$$b_i = \\text{ bias for item i}$$\n",
    "$$b_u = \\text{ bias for user u}$$\n",
    "$$q_i = \\text{ bias latent factor}$$\n",
    "$$P_u = \\text{ user latent factor }$$\n"
   ]
  },
  {
   "cell_type": "code",
   "execution_count": 5,
   "metadata": {},
   "outputs": [],
   "source": [
    "class Matrix_factorization(nn.Module):\n",
    "    '''Matrix Factorization of user and items from rating\n",
    "       ref : Matrix Factorization Techniques for Recommender Systems\n",
    "       ref : Probabilistic Matrix Factorization\n",
    "\n",
    "       Parameter:\n",
    "       ----\n",
    "       len_u : number of users\n",
    "       len_v : number of items\n",
    "       dim : feature dimensions of lantent factor u and v\n",
    "    '''\n",
    "    def __init__(self,len_u,len_v,dim):\n",
    "        super(Matrix_factorization,self).__init__()\n",
    "        self.U = nn.Embedding(len_u,dim)\n",
    "        self.V = nn.Embedding(len_v,dim)\n",
    "        self.Ub = nn.Embedding(len_u,1)\n",
    "        self.Vb = nn.Embedding(len_v,1)\n",
    "\n",
    "    def forward(self,user, item):\n",
    "        u_lant = self.U(user-1)\n",
    "        v_lant = self.V(item-1)\n",
    "        u_bias = self.Ub(user-1).squeeze_()\n",
    "        v_bias = self.Vb(item-1).squeeze_()\n",
    "        score = u_lant.view(1, -1).mm(v_lant.view(-1, 1)).squeeze_()\n",
    "        score = score + u_bias + v_bias + mu\n",
    "        return score"
   ]
  },
  {
   "cell_type": "markdown",
   "metadata": {},
   "source": [
    "# Start training\n",
    "- using SGD\n",
    "- loss function = MSELoss"
   ]
  },
  {
   "cell_type": "code",
   "execution_count": 6,
   "metadata": {},
   "outputs": [
    {
     "name": "stdout",
     "output_type": "stream",
     "text": [
      "3.52986\n"
     ]
    }
   ],
   "source": [
    "len_u = 943\n",
    "len_v = 1682\n",
    "\n",
    "# len_u = 610\n",
    "# len_v = 9742\n",
    "\n",
    "batch_size = 10\n",
    "lr_rate = 1e-3\n",
    "weight_decay= 0.001\n",
    "epoch = 20\n",
    "dim = 50\n",
    "\n",
    "mu = np.mean([i[2] for i in data_list])\n",
    "print(mu)"
   ]
  },
  {
   "cell_type": "code",
   "execution_count": 7,
   "metadata": {},
   "outputs": [
    {
     "name": "stdout",
     "output_type": "stream",
     "text": [
      "Begin training\n"
     ]
    },
    {
     "data": {
      "application/vnd.jupyter.widget-view+json": {
       "model_id": "71eefb8f4a7e461e967821bb8f507155",
       "version_major": 2,
       "version_minor": 0
      },
      "text/plain": [
       "HBox(children=(FloatProgress(value=0.0, max=20.0), HTML(value='')))"
      ]
     },
     "metadata": {},
     "output_type": "display_data"
    },
    {
     "name": "stdout",
     "output_type": "stream",
     "text": [
      "epoch : 1 / 20 loss = 3.307542138809421 accuracy = 0.25243\n",
      "epoch : 2 / 20 loss = 2.154134832130988 accuracy = 0.38268\n",
      "epoch : 3 / 20 loss = 1.6108950346003306 accuracy = 0.48798\n",
      "epoch : 4 / 20 loss = 1.3143377015630344 accuracy = 0.5692\n",
      "epoch : 5 / 20 loss = 1.1424859476706923 accuracy = 0.62661\n",
      "epoch : 6 / 20 loss = 1.0405222171462751 accuracy = 0.66856\n",
      "epoch : 7 / 20 loss = 0.9799363021390727 accuracy = 0.69636\n",
      "epoch : 8 / 20 loss = 0.9442937589145657 accuracy = 0.71287\n",
      "epoch : 9 / 20 loss = 0.9238036604847374 accuracy = 0.7232\n",
      "epoch : 10 / 20 loss = 0.91280174805376 accuracy = 0.72929\n",
      "epoch : 11 / 20 loss = 0.9075608622841776 accuracy = 0.73174\n",
      "epoch : 12 / 20 loss = 0.9058995011865278 accuracy = 0.73248\n",
      "epoch : 13 / 20 loss = 0.9063599933249481 accuracy = 0.73236\n",
      "epoch : 14 / 20 loss = 0.9081361406749541 accuracy = 0.73072\n",
      "epoch : 15 / 20 loss = 0.9106220830426857 accuracy = 0.72909\n",
      "epoch : 16 / 20 loss = 0.9134679797343748 accuracy = 0.72738\n",
      "epoch : 17 / 20 loss = 0.9164476679685535 accuracy = 0.72513\n",
      "epoch : 18 / 20 loss = 0.9193839224584036 accuracy = 0.72339\n",
      "epoch : 19 / 20 loss = 0.9221710117977033 accuracy = 0.72174\n",
      "epoch : 20 / 20 loss = 0.9248622363628002 accuracy = 0.72053\n",
      "\n",
      "Training complete \n",
      "\n",
      "Time past : 2321.14 seconds\n"
     ]
    }
   ],
   "source": [
    "\n",
    "#######################################\n",
    "\n",
    "dataloader = DataLoader(data_list, batch_size=batch_size, shuffle=True, num_workers=0)\n",
    "model =  Matrix_factorization(len_u, len_v, dim)\n",
    "sgd = torch.optim.SGD(model.parameters(), lr=lr_rate, weight_decay=weight_decay)\n",
    "criterion = nn.MSELoss()\n",
    "\n",
    "print('Begin training')\n",
    "start = time.process_time()\n",
    "\n",
    "history = {\n",
    "    \"loss\":[],\n",
    "    \"accuracy\":[]\n",
    "}\n",
    "\n",
    "for i in tqdm(range(epoch)):\n",
    "    for batch in dataloader :  \n",
    "        for user, item, rating in batch:\n",
    "            sgd.zero_grad()\n",
    "            predict = model(user, item)\n",
    "            loss = criterion(predict, rating.float()) \n",
    "            loss.backward()\n",
    "            sgd.step()\n",
    "\n",
    "    loss = 0\n",
    "    correct = 0\n",
    "    total_count = 0\n",
    "    for batch in dataloader :  \n",
    "        for user, item, rating in batch:   \n",
    "            predict = model(user, item)\n",
    "            loss += criterion(predict, rating.float())\n",
    "            \n",
    "            diff = predict.item() - rating.float()\n",
    "            if abs(diff) <= 1:\n",
    "                correct += 1\n",
    "            total_count += 1\n",
    "            \n",
    "    history['loss'].append(loss)\n",
    "    history['accuracy'].append(correct/total_count)\n",
    "    print('epoch : {0} / {1} loss = {2} accuracy = {3}'.format(i+1, epoch , np.sqrt(loss.item() / 100000), correct/total_count ))\n",
    "\n",
    "end = time.process_time()\n",
    "print('Training complete \\n\\nTime past : %.2f seconds'%(end-start))"
   ]
  },
  {
   "cell_type": "markdown",
   "metadata": {},
   "source": [
    "# Save and reload the model"
   ]
  },
  {
   "cell_type": "code",
   "execution_count": 8,
   "metadata": {},
   "outputs": [],
   "source": [
    "# Specify a path\n",
    "PATH = \"model/state_dict_model.pt\"\n",
    "\n",
    "# Save\n",
    "torch.save(model.state_dict(), PATH)"
   ]
  },
  {
   "cell_type": "code",
   "execution_count": 9,
   "metadata": {},
   "outputs": [
    {
     "data": {
      "text/plain": [
       "Matrix_factorization(\n",
       "  (U): Embedding(943, 50)\n",
       "  (V): Embedding(1682, 50)\n",
       "  (Ub): Embedding(943, 1)\n",
       "  (Vb): Embedding(1682, 1)\n",
       ")"
      ]
     },
     "execution_count": 9,
     "metadata": {},
     "output_type": "execute_result"
    }
   ],
   "source": [
    "# Load\n",
    "model = Matrix_factorization(len_u=943, len_v=1682, dim=50)\n",
    "model.load_state_dict(torch.load(PATH))\n",
    "model.eval()"
   ]
  },
  {
   "cell_type": "code",
   "execution_count": 10,
   "metadata": {},
   "outputs": [
    {
     "data": {
      "text/plain": [
       "tensor(3.8889, grad_fn=<AddBackward0>)"
      ]
     },
     "execution_count": 10,
     "metadata": {},
     "output_type": "execute_result"
    }
   ],
   "source": [
    "user = data_list[0][0]\n",
    "item = data_list[0][1]\n",
    "predict = model(user, item)\n",
    "predict"
   ]
  },
  {
   "cell_type": "code",
   "execution_count": 11,
   "metadata": {},
   "outputs": [
    {
     "data": {
      "text/plain": [
       "3.89"
      ]
     },
     "execution_count": 11,
     "metadata": {},
     "output_type": "execute_result"
    }
   ],
   "source": [
    "np.round(predict.item(),2)"
   ]
  },
  {
   "cell_type": "code",
   "execution_count": 12,
   "metadata": {},
   "outputs": [
    {
     "data": {
      "text/plain": [
       "tensor(196)"
      ]
     },
     "execution_count": 12,
     "metadata": {},
     "output_type": "execute_result"
    }
   ],
   "source": [
    "user"
   ]
  },
  {
   "cell_type": "markdown",
   "metadata": {},
   "source": [
    "# Connect the dot"
   ]
  },
  {
   "cell_type": "code",
   "execution_count": 13,
   "metadata": {},
   "outputs": [
    {
     "data": {
      "application/vnd.jupyter.widget-view+json": {
       "model_id": "4b682b46f9be47478134b10c06eeee27",
       "version_major": 2,
       "version_minor": 0
      },
      "text/plain": [
       "HBox(children=(FloatProgress(value=1.0, bar_style='info', max=1.0), HTML(value='')))"
      ]
     },
     "metadata": {},
     "output_type": "display_data"
    },
    {
     "name": "stdout",
     "output_type": "stream",
     "text": [
      "\n",
      "data loading complete\n"
     ]
    },
    {
     "data": {
      "application/vnd.jupyter.widget-view+json": {
       "model_id": "db232b7a92964ad1b4de1e74b7dd5bca",
       "version_major": 2,
       "version_minor": 0
      },
      "text/plain": [
       "HBox(children=(FloatProgress(value=1.0, bar_style='info', max=1.0), HTML(value='')))"
      ]
     },
     "metadata": {},
     "output_type": "display_data"
    },
    {
     "name": "stdout",
     "output_type": "stream",
     "text": [
      "\n",
      "data loading complete\n"
     ]
    }
   ],
   "source": [
    "ratings, movies = data_handler()\n",
    "\n",
    "movies['movie_id'] = movies['movie_id'].astype('int64')\n",
    "movies['movie_id'] = movies['movie_id'].astype('int64')\n",
    "\n",
    "# movies.dtypes"
   ]
  },
  {
   "cell_type": "code",
   "execution_count": 14,
   "metadata": {},
   "outputs": [
    {
     "data": {
      "text/html": [
       "<div>\n",
       "<style scoped>\n",
       "    .dataframe tbody tr th:only-of-type {\n",
       "        vertical-align: middle;\n",
       "    }\n",
       "\n",
       "    .dataframe tbody tr th {\n",
       "        vertical-align: top;\n",
       "    }\n",
       "\n",
       "    .dataframe thead th {\n",
       "        text-align: right;\n",
       "    }\n",
       "</style>\n",
       "<table border=\"1\" class=\"dataframe\">\n",
       "  <thead>\n",
       "    <tr style=\"text-align: right;\">\n",
       "      <th></th>\n",
       "      <th>user_id</th>\n",
       "      <th>movie_id</th>\n",
       "      <th>rating</th>\n",
       "      <th>timestamp</th>\n",
       "    </tr>\n",
       "  </thead>\n",
       "  <tbody>\n",
       "    <tr>\n",
       "      <th>0</th>\n",
       "      <td>196</td>\n",
       "      <td>242</td>\n",
       "      <td>3</td>\n",
       "      <td>881250949</td>\n",
       "    </tr>\n",
       "    <tr>\n",
       "      <th>1</th>\n",
       "      <td>186</td>\n",
       "      <td>302</td>\n",
       "      <td>3</td>\n",
       "      <td>891717742</td>\n",
       "    </tr>\n",
       "    <tr>\n",
       "      <th>2</th>\n",
       "      <td>22</td>\n",
       "      <td>377</td>\n",
       "      <td>1</td>\n",
       "      <td>878887116</td>\n",
       "    </tr>\n",
       "  </tbody>\n",
       "</table>\n",
       "</div>"
      ],
      "text/plain": [
       "   user_id  movie_id  rating  timestamp\n",
       "0      196       242       3  881250949\n",
       "1      186       302       3  891717742\n",
       "2       22       377       1  878887116"
      ]
     },
     "execution_count": 14,
     "metadata": {},
     "output_type": "execute_result"
    }
   ],
   "source": [
    "ratings.head(3)"
   ]
  },
  {
   "cell_type": "code",
   "execution_count": 15,
   "metadata": {},
   "outputs": [
    {
     "data": {
      "text/html": [
       "<div>\n",
       "<style scoped>\n",
       "    .dataframe tbody tr th:only-of-type {\n",
       "        vertical-align: middle;\n",
       "    }\n",
       "\n",
       "    .dataframe tbody tr th {\n",
       "        vertical-align: top;\n",
       "    }\n",
       "\n",
       "    .dataframe thead th {\n",
       "        text-align: right;\n",
       "    }\n",
       "</style>\n",
       "<table border=\"1\" class=\"dataframe\">\n",
       "  <thead>\n",
       "    <tr style=\"text-align: right;\">\n",
       "      <th></th>\n",
       "      <th>movie_id</th>\n",
       "      <th>movie_title</th>\n",
       "      <th>release_date</th>\n",
       "      <th>video_release_date</th>\n",
       "      <th>IMDb_URL</th>\n",
       "      <th>unknown</th>\n",
       "      <th>Action</th>\n",
       "      <th>Adventure</th>\n",
       "      <th>Animation</th>\n",
       "      <th>Children</th>\n",
       "      <th>...</th>\n",
       "      <th>Fantasy</th>\n",
       "      <th>Film-Noir</th>\n",
       "      <th>Horror</th>\n",
       "      <th>Musical</th>\n",
       "      <th>Mystery</th>\n",
       "      <th>Romance</th>\n",
       "      <th>Sci_Fi</th>\n",
       "      <th>Thriller</th>\n",
       "      <th>War</th>\n",
       "      <th>Western</th>\n",
       "    </tr>\n",
       "  </thead>\n",
       "  <tbody>\n",
       "    <tr>\n",
       "      <th>0</th>\n",
       "      <td>1</td>\n",
       "      <td>Toy Story (1995)</td>\n",
       "      <td>01-Jan-1995</td>\n",
       "      <td></td>\n",
       "      <td>http://us.imdb.com/M/title-exact?Toy%20Story%2...</td>\n",
       "      <td>0</td>\n",
       "      <td>0</td>\n",
       "      <td>0</td>\n",
       "      <td>1</td>\n",
       "      <td>1</td>\n",
       "      <td>...</td>\n",
       "      <td>0</td>\n",
       "      <td>0</td>\n",
       "      <td>0</td>\n",
       "      <td>0</td>\n",
       "      <td>0</td>\n",
       "      <td>0</td>\n",
       "      <td>0</td>\n",
       "      <td>0</td>\n",
       "      <td>0</td>\n",
       "      <td>0</td>\n",
       "    </tr>\n",
       "    <tr>\n",
       "      <th>1</th>\n",
       "      <td>2</td>\n",
       "      <td>GoldenEye (1995)</td>\n",
       "      <td>01-Jan-1995</td>\n",
       "      <td></td>\n",
       "      <td>http://us.imdb.com/M/title-exact?GoldenEye%20(...</td>\n",
       "      <td>0</td>\n",
       "      <td>1</td>\n",
       "      <td>1</td>\n",
       "      <td>0</td>\n",
       "      <td>0</td>\n",
       "      <td>...</td>\n",
       "      <td>0</td>\n",
       "      <td>0</td>\n",
       "      <td>0</td>\n",
       "      <td>0</td>\n",
       "      <td>0</td>\n",
       "      <td>0</td>\n",
       "      <td>0</td>\n",
       "      <td>1</td>\n",
       "      <td>0</td>\n",
       "      <td>0</td>\n",
       "    </tr>\n",
       "    <tr>\n",
       "      <th>2</th>\n",
       "      <td>3</td>\n",
       "      <td>Four Rooms (1995)</td>\n",
       "      <td>01-Jan-1995</td>\n",
       "      <td></td>\n",
       "      <td>http://us.imdb.com/M/title-exact?Four%20Rooms%...</td>\n",
       "      <td>0</td>\n",
       "      <td>0</td>\n",
       "      <td>0</td>\n",
       "      <td>0</td>\n",
       "      <td>0</td>\n",
       "      <td>...</td>\n",
       "      <td>0</td>\n",
       "      <td>0</td>\n",
       "      <td>0</td>\n",
       "      <td>0</td>\n",
       "      <td>0</td>\n",
       "      <td>0</td>\n",
       "      <td>0</td>\n",
       "      <td>1</td>\n",
       "      <td>0</td>\n",
       "      <td>0</td>\n",
       "    </tr>\n",
       "  </tbody>\n",
       "</table>\n",
       "<p>3 rows × 24 columns</p>\n",
       "</div>"
      ],
      "text/plain": [
       "   movie_id        movie_title release_date video_release_date  \\\n",
       "0         1   Toy Story (1995)  01-Jan-1995                      \n",
       "1         2   GoldenEye (1995)  01-Jan-1995                      \n",
       "2         3  Four Rooms (1995)  01-Jan-1995                      \n",
       "\n",
       "                                            IMDb_URL unknown Action Adventure  \\\n",
       "0  http://us.imdb.com/M/title-exact?Toy%20Story%2...       0      0         0   \n",
       "1  http://us.imdb.com/M/title-exact?GoldenEye%20(...       0      1         1   \n",
       "2  http://us.imdb.com/M/title-exact?Four%20Rooms%...       0      0         0   \n",
       "\n",
       "  Animation Children  ... Fantasy Film-Noir Horror Musical Mystery Romance  \\\n",
       "0         1        1  ...       0         0      0       0       0       0   \n",
       "1         0        0  ...       0         0      0       0       0       0   \n",
       "2         0        0  ...       0         0      0       0       0       0   \n",
       "\n",
       "  Sci_Fi Thriller War Western  \n",
       "0      0        0   0       0  \n",
       "1      0        1   0       0  \n",
       "2      0        1   0       0  \n",
       "\n",
       "[3 rows x 24 columns]"
      ]
     },
     "execution_count": 15,
     "metadata": {},
     "output_type": "execute_result"
    }
   ],
   "source": [
    "movies.head(3)"
   ]
  },
  {
   "cell_type": "code",
   "execution_count": 16,
   "metadata": {},
   "outputs": [
    {
     "data": {
      "text/html": [
       "<div>\n",
       "<style scoped>\n",
       "    .dataframe tbody tr th:only-of-type {\n",
       "        vertical-align: middle;\n",
       "    }\n",
       "\n",
       "    .dataframe tbody tr th {\n",
       "        vertical-align: top;\n",
       "    }\n",
       "\n",
       "    .dataframe thead th {\n",
       "        text-align: right;\n",
       "    }\n",
       "</style>\n",
       "<table border=\"1\" class=\"dataframe\">\n",
       "  <thead>\n",
       "    <tr style=\"text-align: right;\">\n",
       "      <th></th>\n",
       "      <th>user_id</th>\n",
       "      <th>movie_id</th>\n",
       "      <th>rating</th>\n",
       "      <th>timestamp</th>\n",
       "      <th>movie_title</th>\n",
       "      <th>release_date</th>\n",
       "      <th>video_release_date</th>\n",
       "      <th>IMDb_URL</th>\n",
       "      <th>unknown</th>\n",
       "      <th>Action</th>\n",
       "      <th>...</th>\n",
       "      <th>Fantasy</th>\n",
       "      <th>Film-Noir</th>\n",
       "      <th>Horror</th>\n",
       "      <th>Musical</th>\n",
       "      <th>Mystery</th>\n",
       "      <th>Romance</th>\n",
       "      <th>Sci_Fi</th>\n",
       "      <th>Thriller</th>\n",
       "      <th>War</th>\n",
       "      <th>Western</th>\n",
       "    </tr>\n",
       "  </thead>\n",
       "  <tbody>\n",
       "    <tr>\n",
       "      <th>0</th>\n",
       "      <td>196</td>\n",
       "      <td>242</td>\n",
       "      <td>3</td>\n",
       "      <td>881250949</td>\n",
       "      <td>Kolya (1996)</td>\n",
       "      <td>24-Jan-1997</td>\n",
       "      <td></td>\n",
       "      <td>http://us.imdb.com/M/title-exact?Kolya%20(1996)</td>\n",
       "      <td>0</td>\n",
       "      <td>0</td>\n",
       "      <td>...</td>\n",
       "      <td>0</td>\n",
       "      <td>0</td>\n",
       "      <td>0</td>\n",
       "      <td>0</td>\n",
       "      <td>0</td>\n",
       "      <td>0</td>\n",
       "      <td>0</td>\n",
       "      <td>0</td>\n",
       "      <td>0</td>\n",
       "      <td>0</td>\n",
       "    </tr>\n",
       "    <tr>\n",
       "      <th>1</th>\n",
       "      <td>63</td>\n",
       "      <td>242</td>\n",
       "      <td>3</td>\n",
       "      <td>875747190</td>\n",
       "      <td>Kolya (1996)</td>\n",
       "      <td>24-Jan-1997</td>\n",
       "      <td></td>\n",
       "      <td>http://us.imdb.com/M/title-exact?Kolya%20(1996)</td>\n",
       "      <td>0</td>\n",
       "      <td>0</td>\n",
       "      <td>...</td>\n",
       "      <td>0</td>\n",
       "      <td>0</td>\n",
       "      <td>0</td>\n",
       "      <td>0</td>\n",
       "      <td>0</td>\n",
       "      <td>0</td>\n",
       "      <td>0</td>\n",
       "      <td>0</td>\n",
       "      <td>0</td>\n",
       "      <td>0</td>\n",
       "    </tr>\n",
       "    <tr>\n",
       "      <th>2</th>\n",
       "      <td>226</td>\n",
       "      <td>242</td>\n",
       "      <td>5</td>\n",
       "      <td>883888671</td>\n",
       "      <td>Kolya (1996)</td>\n",
       "      <td>24-Jan-1997</td>\n",
       "      <td></td>\n",
       "      <td>http://us.imdb.com/M/title-exact?Kolya%20(1996)</td>\n",
       "      <td>0</td>\n",
       "      <td>0</td>\n",
       "      <td>...</td>\n",
       "      <td>0</td>\n",
       "      <td>0</td>\n",
       "      <td>0</td>\n",
       "      <td>0</td>\n",
       "      <td>0</td>\n",
       "      <td>0</td>\n",
       "      <td>0</td>\n",
       "      <td>0</td>\n",
       "      <td>0</td>\n",
       "      <td>0</td>\n",
       "    </tr>\n",
       "  </tbody>\n",
       "</table>\n",
       "<p>3 rows × 27 columns</p>\n",
       "</div>"
      ],
      "text/plain": [
       "   user_id  movie_id  rating  timestamp   movie_title release_date  \\\n",
       "0      196       242       3  881250949  Kolya (1996)  24-Jan-1997   \n",
       "1       63       242       3  875747190  Kolya (1996)  24-Jan-1997   \n",
       "2      226       242       5  883888671  Kolya (1996)  24-Jan-1997   \n",
       "\n",
       "  video_release_date                                         IMDb_URL unknown  \\\n",
       "0                     http://us.imdb.com/M/title-exact?Kolya%20(1996)       0   \n",
       "1                     http://us.imdb.com/M/title-exact?Kolya%20(1996)       0   \n",
       "2                     http://us.imdb.com/M/title-exact?Kolya%20(1996)       0   \n",
       "\n",
       "  Action  ... Fantasy Film-Noir Horror Musical Mystery Romance Sci_Fi  \\\n",
       "0      0  ...       0         0      0       0       0       0      0   \n",
       "1      0  ...       0         0      0       0       0       0      0   \n",
       "2      0  ...       0         0      0       0       0       0      0   \n",
       "\n",
       "  Thriller War Western  \n",
       "0        0   0       0  \n",
       "1        0   0       0  \n",
       "2        0   0       0  \n",
       "\n",
       "[3 rows x 27 columns]"
      ]
     },
     "execution_count": 16,
     "metadata": {},
     "output_type": "execute_result"
    }
   ],
   "source": [
    "merge = pd.merge(ratings, movies, on='movie_id')\n",
    "merge.head(3)"
   ]
  },
  {
   "cell_type": "markdown",
   "metadata": {},
   "source": [
    "# Recommend Generator"
   ]
  },
  {
   "cell_type": "code",
   "execution_count": 18,
   "metadata": {},
   "outputs": [
    {
     "name": "stdout",
     "output_type": "stream",
     "text": [
      "User 196\n",
      "from rating, he/she like\n",
      "movie_id  predict_rating  movie_title\n",
      "==========================================================\n",
      "285           5       Secrets & Lies (1996)\n",
      "663           5       Being There (1979)\n",
      "153           5       Fish Called Wanda, A (1988)\n",
      "286           5       English Patient, The (1996)\n",
      "692           5       American President, The (1995)\n",
      "\n",
      "\n",
      "from rating, he/she might like\n",
      "movie_id  predict_rating  movie_title\n",
      "==========================================================\n",
      "64           4.45       Shawshank Redemption, The (1994)\n",
      "50           4.42       Star Wars (1977)\n",
      "12           4.41       Usual Suspects, The (1995)\n",
      "174           4.36       Raiders of the Lost Ark (1981)\n",
      "408           4.32       Close Shave, A (1995)\n"
     ]
    }
   ],
   "source": [
    "def recommend_generator(user = 196, topk = 5):\n",
    "    ''' generate the prediction rating for each records \n",
    "    '''\n",
    "    def prediction(row, model, user):\n",
    "\n",
    "        user = torch.tensor(user)\n",
    "        item = torch.tensor(row)\n",
    "        predict = model(user, item)\n",
    "        return np.round(predict.item(),2)\n",
    "\n",
    "    def fetch_year(row):\n",
    "        '''\n",
    "        string = \"Kolya (1996)\"\n",
    "        m = re.search(\"([0-9]{4})\",string).group(0)\n",
    "        int(m)\n",
    "        '''\n",
    "        match = re.search(\"([0-9]{4})\",row)\n",
    "        try:\n",
    "            return int(match.group(0))\n",
    "        except:\n",
    "            return 0\n",
    "\n",
    "    # fetching the past watching records\n",
    "    records = merge[merge['user_id']==user].sort_values(by=['rating'], ascending=False)\n",
    "    records = records.iloc[0:5,:]\n",
    "    print(f\"User {user}\")\n",
    "    print(\"from rating, he/she like\")\n",
    "    print(\"movie_id  predict_rating  movie_title\")\n",
    "    print(\"==========================================================\")\n",
    "    for ele in records.to_dict('records'):\n",
    "        print(\"{0}           {1}       {2}\".format(ele[\"movie_id\"], ele[\"rating\"], ele[\"movie_title\"]))\n",
    "\n",
    "\n",
    "    # generating the topk movies from model \n",
    "    movies['predicted'] = movies['movie_id'].apply(prediction, args=(model, user))\n",
    "    movies['year'] = movies['movie_title'].apply(fetch_year)\n",
    "    rank = movies.sort_values(by=['predicted'], ascending=False)\n",
    "    rank = rank.iloc[0:topk,:]\n",
    "\n",
    "    print(\"\\n\")\n",
    "    print(\"from rating, he/she might like\")\n",
    "    print(\"movie_id  predict_rating  movie_title\")\n",
    "    print(\"==========================================================\")\n",
    "    for ele in rank.to_dict('records'):\n",
    "        print(\"{0}           {1}       {2}\".format(ele[\"movie_id\"], ele[\"predicted\"], ele[\"movie_title\"]))\n",
    "        \n",
    "\n",
    "# for example, we recommend user(196) the movies he/she might like based on the NN rating model.\n",
    "recommend_generator(user = 196, topk = 5)"
   ]
  },
  {
   "cell_type": "markdown",
   "metadata": {},
   "source": [
    "# Model Accuracy Rate"
   ]
  },
  {
   "cell_type": "code",
   "execution_count": 20,
   "metadata": {},
   "outputs": [
    {
     "name": "stderr",
     "output_type": "stream",
     "text": [
      "<ipython-input-20-aa1e5591d83c>:4: UserWarning: To copy construct from a tensor, it is recommended to use sourceTensor.clone().detach() or sourceTensor.clone().detach().requires_grad_(True), rather than torch.tensor(sourceTensor).\n",
      "  user = torch.tensor(user)\n"
     ]
    },
    {
     "name": "stdout",
     "output_type": "stream",
     "text": [
      "Accuracy Rate 66.13900000000001%\n"
     ]
    }
   ],
   "source": [
    "def accuracy_evaluate():\n",
    "    def prediction(row, model, user):\n",
    "\n",
    "        user = torch.tensor(user)\n",
    "        item = torch.tensor(row)\n",
    "        predict = model(user, item)\n",
    "        return np.round(predict.item(),2)\n",
    "\n",
    "    validate = merge.copy()\n",
    "    validate['predicted'] = validate['movie_id'].apply(prediction, args=(model, user))\n",
    "\n",
    "    validate['diff'] = validate['predicted'] - validate['rating']\n",
    "    validate['correct'] = validate['diff'].apply(lambda x: 1 if abs(x) <= 1 else 0)\n",
    "    correct = validate['correct'].sum()\n",
    "    accuracy = correct/validate.shape[0]\n",
    "    print(\"Accuracy Rate {}%\".format(accuracy*100))\n",
    "\n",
    "\n",
    "accuracy_evaluate()"
   ]
  },
  {
   "cell_type": "markdown",
   "metadata": {},
   "source": [
    "# Draw the acc and loss plt"
   ]
  },
  {
   "cell_type": "code",
   "execution_count": 22,
   "metadata": {},
   "outputs": [
    {
     "data": {
      "text/plain": [
       "<matplotlib.legend.Legend at 0x120f95370>"
      ]
     },
     "execution_count": 22,
     "metadata": {},
     "output_type": "execute_result"
    },
    {
     "data": {
      "image/png": "[encoded data removed]",
      "text/plain": [
       "<Figure size 1440x360 with 2 Axes>"
      ]
     },
     "metadata": {},
     "output_type": "display_data"
    }
   ],
   "source": [
    "# Plot the progression of the classification accuracy over 20 epoach.\n",
    "plt.style.use('ggplot')\n",
    "\n",
    "fig, ax = plt.subplots(1,2,figsize=(20,5))\n",
    "\n",
    "# summarize for accuracy\n",
    "ax[0].plot(history.get('accuracy'),label='train')\n",
    "# ax[0].plot(history.history['val_accuracy'],label ='test')\n",
    "\n",
    "ax[0].set_title('Accuracy',fontsize=18)\n",
    "ax[0].set_ylabel('accuracy')\n",
    "ax[0].set_xlabel('epoch')\n",
    "ax[0].legend(loc='upper left')\n",
    "\n",
    "# # summarize for loss \n",
    "ax[1].plot(history.get('loss'), label='train')\n",
    "# ax[1].plot(history.history['val_loss'], label ='test')\n",
    "\n",
    "ax[1].set_title('Loss',fontsize=18)\n",
    "ax[1].set_ylabel('loss')\n",
    "ax[1].set_xlabel('epoch')\n",
    "ax[1].legend(loc='upper left')"
   ]
  },
  {
   "cell_type": "code",
   "execution_count": null,
   "metadata": {},
   "outputs": [],
   "source": []
  }
 ],
 "metadata": {
  "kernelspec": {
   "display_name": "Python 3",
   "language": "python",
   "name": "python3"
  },
  "language_info": {
   "codemirror_mode": {
    "name": "ipython",
    "version": 3
   },
   "file_extension": ".py",
   "mimetype": "text/x-python",
   "name": "python",
   "nbconvert_exporter": "python",
   "pygments_lexer": "ipython3",
   "version": "3.8.3"
  }
 },
 "nbformat": 4,
 "nbformat_minor": 4
}
