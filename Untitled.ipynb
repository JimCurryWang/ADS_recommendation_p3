{
 "cells": [
  {
   "cell_type": "code",
   "execution_count": null,
   "metadata": {},
   "outputs": [],
   "source": [
    "import pandas as pd\n",
    "import numpy as np\n",
    "\n",
    "import torch\n",
    "import torch.nn as nn\n",
    "from torch.utils.data import DataLoader\n",
    "# from torch.utils.data import *\n",
    "\n",
    "import time\n",
    "import random\n",
    "import re\n",
    "\n",
    "import matplotlib.pyplot as plt \n",
    "%matplotlib inline\n",
    "\n",
    "import pdb\n",
    "from tqdm.auto import tqdm\n",
    "\n",
    "from pprint import pprint"
   ]
  },
  {
   "cell_type": "code",
   "execution_count": 2,
   "metadata": {},
   "outputs": [
    {
     "name": "stdout",
     "output_type": "stream",
     "text": [
      "train_news =  (51282, 8)\n",
      "train_behaviors =  (156965, 5)\n"
     ]
    }
   ],
   "source": [
    "train_news = pd.read_csv(\"data/Small_data_set/MINDsmall_train/news.tsv\", sep=\"\\t\", header=None)\n",
    "train_behaviors = pd.read_csv(\"data/Small_data_set/MINDsmall_train/behaviors.tsv\", sep=\"\\t\", header=None)\n",
    "\n",
    "dev_news = pd.read_csv(\"data/Small_data_set/MINDsmall_dev/news.tsv\", sep=\"\\t\", header=None)\n",
    "dev_behaviors = pd.read_csv(\"data/Small_data_set/MINDsmall_dev/behaviors.tsv\", sep=\"\\t\", header=None)\n",
    "\n",
    "columns = [\"News_ID\",\"Category\",\"Subcategory\",\"News_Title\",\"News_Abstrct\",\n",
    "           \"News_Url\",\"Entities_in_News_Title\",\"Entities_in_News_Abstract\"]\n",
    "train_news.columns = columns\n",
    "\n",
    "columns = [\"Impression_ID\",\"User_ID\",\"Impression_Time\",\"User_Click_History\",\"Impression_New\"]\n",
    "train_behaviors.columns = columns\n",
    "\n",
    "print(\"train_news = \",train_news.shape)\n",
    "print(\"train_behaviors = \",train_behaviors.shape)"
   ]
  },
  {
   "cell_type": "code",
   "execution_count": 3,
   "metadata": {},
   "outputs": [
    {
     "data": {
      "text/html": [
       "<div>\n",
       "<style scoped>\n",
       "    .dataframe tbody tr th:only-of-type {\n",
       "        vertical-align: middle;\n",
       "    }\n",
       "\n",
       "    .dataframe tbody tr th {\n",
       "        vertical-align: top;\n",
       "    }\n",
       "\n",
       "    .dataframe thead th {\n",
       "        text-align: right;\n",
       "    }\n",
       "</style>\n",
       "<table border=\"1\" class=\"dataframe\">\n",
       "  <thead>\n",
       "    <tr style=\"text-align: right;\">\n",
       "      <th></th>\n",
       "      <th>News_ID</th>\n",
       "      <th>Category</th>\n",
       "      <th>Subcategory</th>\n",
       "      <th>News_Title</th>\n",
       "      <th>News_Abstrct</th>\n",
       "      <th>News_Url</th>\n",
       "      <th>Entities_in_News_Title</th>\n",
       "      <th>Entities_in_News_Abstract</th>\n",
       "    </tr>\n",
       "  </thead>\n",
       "  <tbody>\n",
       "    <tr>\n",
       "      <th>0</th>\n",
       "      <td>N55528</td>\n",
       "      <td>lifestyle</td>\n",
       "      <td>lifestyleroyals</td>\n",
       "      <td>The Brands Queen Elizabeth, Prince Charles, an...</td>\n",
       "      <td>Shop the notebooks, jackets, and more that the...</td>\n",
       "      <td>https://assets.msn.com/labs/mind/AAGH0ET.html</td>\n",
       "      <td>[{\"Label\": \"Prince Philip, Duke of Edinburgh\",...</td>\n",
       "      <td>[]</td>\n",
       "    </tr>\n",
       "    <tr>\n",
       "      <th>1</th>\n",
       "      <td>N19639</td>\n",
       "      <td>health</td>\n",
       "      <td>weightloss</td>\n",
       "      <td>50 Worst Habits For Belly Fat</td>\n",
       "      <td>These seemingly harmless habits are holding yo...</td>\n",
       "      <td>https://assets.msn.com/labs/mind/AAB19MK.html</td>\n",
       "      <td>[{\"Label\": \"Adipose tissue\", \"Type\": \"C\", \"Wik...</td>\n",
       "      <td>[{\"Label\": \"Adipose tissue\", \"Type\": \"C\", \"Wik...</td>\n",
       "    </tr>\n",
       "    <tr>\n",
       "      <th>2</th>\n",
       "      <td>N61837</td>\n",
       "      <td>news</td>\n",
       "      <td>newsworld</td>\n",
       "      <td>The Cost of Trump's Aid Freeze in the Trenches...</td>\n",
       "      <td>Lt. Ivan Molchanets peeked over a parapet of s...</td>\n",
       "      <td>https://assets.msn.com/labs/mind/AAJgNsz.html</td>\n",
       "      <td>[]</td>\n",
       "      <td>[{\"Label\": \"Ukraine\", \"Type\": \"G\", \"WikidataId...</td>\n",
       "    </tr>\n",
       "  </tbody>\n",
       "</table>\n",
       "</div>"
      ],
      "text/plain": [
       "  News_ID   Category      Subcategory  \\\n",
       "0  N55528  lifestyle  lifestyleroyals   \n",
       "1  N19639     health       weightloss   \n",
       "2  N61837       news        newsworld   \n",
       "\n",
       "                                          News_Title  \\\n",
       "0  The Brands Queen Elizabeth, Prince Charles, an...   \n",
       "1                      50 Worst Habits For Belly Fat   \n",
       "2  The Cost of Trump's Aid Freeze in the Trenches...   \n",
       "\n",
       "                                        News_Abstrct  \\\n",
       "0  Shop the notebooks, jackets, and more that the...   \n",
       "1  These seemingly harmless habits are holding yo...   \n",
       "2  Lt. Ivan Molchanets peeked over a parapet of s...   \n",
       "\n",
       "                                        News_Url  \\\n",
       "0  https://assets.msn.com/labs/mind/AAGH0ET.html   \n",
       "1  https://assets.msn.com/labs/mind/AAB19MK.html   \n",
       "2  https://assets.msn.com/labs/mind/AAJgNsz.html   \n",
       "\n",
       "                              Entities_in_News_Title  \\\n",
       "0  [{\"Label\": \"Prince Philip, Duke of Edinburgh\",...   \n",
       "1  [{\"Label\": \"Adipose tissue\", \"Type\": \"C\", \"Wik...   \n",
       "2                                                 []   \n",
       "\n",
       "                           Entities_in_News_Abstract  \n",
       "0                                                 []  \n",
       "1  [{\"Label\": \"Adipose tissue\", \"Type\": \"C\", \"Wik...  \n",
       "2  [{\"Label\": \"Ukraine\", \"Type\": \"G\", \"WikidataId...  "
      ]
     },
     "execution_count": 3,
     "metadata": {},
     "output_type": "execute_result"
    }
   ],
   "source": [
    "train_news.head(3)"
   ]
  },
  {
   "cell_type": "code",
   "execution_count": 4,
   "metadata": {},
   "outputs": [
    {
     "data": {
      "text/html": [
       "<div>\n",
       "<style scoped>\n",
       "    .dataframe tbody tr th:only-of-type {\n",
       "        vertical-align: middle;\n",
       "    }\n",
       "\n",
       "    .dataframe tbody tr th {\n",
       "        vertical-align: top;\n",
       "    }\n",
       "\n",
       "    .dataframe thead th {\n",
       "        text-align: right;\n",
       "    }\n",
       "</style>\n",
       "<table border=\"1\" class=\"dataframe\">\n",
       "  <thead>\n",
       "    <tr style=\"text-align: right;\">\n",
       "      <th></th>\n",
       "      <th>Impression_ID</th>\n",
       "      <th>User_ID</th>\n",
       "      <th>Impression_Time</th>\n",
       "      <th>User_Click_History</th>\n",
       "      <th>Impression_New</th>\n",
       "    </tr>\n",
       "  </thead>\n",
       "  <tbody>\n",
       "    <tr>\n",
       "      <th>0</th>\n",
       "      <td>1</td>\n",
       "      <td>U13740</td>\n",
       "      <td>11/11/2019 9:05:58 AM</td>\n",
       "      <td>N55189 N42782 N34694 N45794 N18445 N63302 N104...</td>\n",
       "      <td>N55689-1 N35729-0</td>\n",
       "    </tr>\n",
       "  </tbody>\n",
       "</table>\n",
       "</div>"
      ],
      "text/plain": [
       "   Impression_ID User_ID        Impression_Time  \\\n",
       "0              1  U13740  11/11/2019 9:05:58 AM   \n",
       "\n",
       "                                  User_Click_History     Impression_New  \n",
       "0  N55189 N42782 N34694 N45794 N18445 N63302 N104...  N55689-1 N35729-0  "
      ]
     },
     "execution_count": 4,
     "metadata": {},
     "output_type": "execute_result"
    }
   ],
   "source": [
    "train_behaviors.head(1)"
   ]
  },
  {
   "cell_type": "code",
   "execution_count": 5,
   "metadata": {},
   "outputs": [
    {
     "data": {
      "text/html": [
       "<div>\n",
       "<style scoped>\n",
       "    .dataframe tbody tr th:only-of-type {\n",
       "        vertical-align: middle;\n",
       "    }\n",
       "\n",
       "    .dataframe tbody tr th {\n",
       "        vertical-align: top;\n",
       "    }\n",
       "\n",
       "    .dataframe thead th {\n",
       "        text-align: right;\n",
       "    }\n",
       "</style>\n",
       "<table border=\"1\" class=\"dataframe\">\n",
       "  <thead>\n",
       "    <tr style=\"text-align: right;\">\n",
       "      <th></th>\n",
       "      <th>Impression_ID</th>\n",
       "      <th>User_ID</th>\n",
       "      <th>Impression_Time</th>\n",
       "      <th>User_Click_History</th>\n",
       "      <th>Impression_New</th>\n",
       "    </tr>\n",
       "  </thead>\n",
       "  <tbody>\n",
       "    <tr>\n",
       "      <th>0</th>\n",
       "      <td>1</td>\n",
       "      <td>U13740</td>\n",
       "      <td>11/11/2019 9:05:58 AM</td>\n",
       "      <td>N55189 N42782 N34694 N45794 N18445 N63302 N104...</td>\n",
       "      <td>N55689-1 N35729-0</td>\n",
       "    </tr>\n",
       "    <tr>\n",
       "      <th>35262</th>\n",
       "      <td>35263</td>\n",
       "      <td>U13740</td>\n",
       "      <td>11/9/2019 5:59:43 AM</td>\n",
       "      <td>N55189 N42782 N34694 N45794 N18445 N63302 N104...</td>\n",
       "      <td>N20020-0 N3737-0 N43202-0 N18708-0 N30125-0 N3...</td>\n",
       "    </tr>\n",
       "    <tr>\n",
       "      <th>154836</th>\n",
       "      <td>154837</td>\n",
       "      <td>U13740</td>\n",
       "      <td>11/13/2019 3:27:40 PM</td>\n",
       "      <td>N55189 N42782 N34694 N45794 N18445 N63302 N104...</td>\n",
       "      <td>N13907-0 N8509-0 N47061-0 N51048-0 N22417-0 N3...</td>\n",
       "    </tr>\n",
       "  </tbody>\n",
       "</table>\n",
       "</div>"
      ],
      "text/plain": [
       "        Impression_ID User_ID        Impression_Time  \\\n",
       "0                   1  U13740  11/11/2019 9:05:58 AM   \n",
       "35262           35263  U13740   11/9/2019 5:59:43 AM   \n",
       "154836         154837  U13740  11/13/2019 3:27:40 PM   \n",
       "\n",
       "                                       User_Click_History  \\\n",
       "0       N55189 N42782 N34694 N45794 N18445 N63302 N104...   \n",
       "35262   N55189 N42782 N34694 N45794 N18445 N63302 N104...   \n",
       "154836  N55189 N42782 N34694 N45794 N18445 N63302 N104...   \n",
       "\n",
       "                                           Impression_New  \n",
       "0                                       N55689-1 N35729-0  \n",
       "35262   N20020-0 N3737-0 N43202-0 N18708-0 N30125-0 N3...  \n",
       "154836  N13907-0 N8509-0 N47061-0 N51048-0 N22417-0 N3...  "
      ]
     },
     "execution_count": 5,
     "metadata": {},
     "output_type": "execute_result"
    }
   ],
   "source": [
    "pick = train_behaviors[train_behaviors['User_ID']=='U13740']\n",
    "pick"
   ]
  },
  {
   "cell_type": "code",
   "execution_count": 6,
   "metadata": {},
   "outputs": [
    {
     "name": "stdout",
     "output_type": "stream",
     "text": [
      "N55189 N42782 N34694 N45794 N18445 N63302 N10414 N19347 N31801\n",
      "N55689-1 N35729-0\n"
     ]
    }
   ],
   "source": [
    "# for i,j in zip(pick['User_Click_History'],pick['Impression_New']):\n",
    "#     print(i)\n",
    "#     print(j)\n",
    "#     print(\" \")\n",
    "\n",
    "print( pick['User_Click_History'][0] )\n",
    "print( pick['Impression_New'][0] )\n",
    "\n"
   ]
  },
  {
   "cell_type": "code",
   "execution_count": 16,
   "metadata": {},
   "outputs": [
    {
     "name": "stdout",
     "output_type": "stream",
     "text": [
      "50 Worst Habits For Belly Fat\n",
      "These seemingly harmless habits are holding you back and keeping you from shedding that unwanted belly fat for good.\n"
     ]
    }
   ],
   "source": [
    "news_pick = train_news[train_news['News_ID']=='N19639']\n",
    "print( list(news_pick['News_Title'])[0])\n",
    "print( list(news_pick['News_Abstrct'])[0])"
   ]
  },
  {
   "cell_type": "code",
   "execution_count": 18,
   "metadata": {},
   "outputs": [
    {
     "name": "stdout",
     "output_type": "stream",
     "text": [
      "[{'Confidence': 1.0,\n",
      "  'Label': 'Adipose tissue',\n",
      "  'OccurrenceOffsets': [20],\n",
      "  'SurfaceForms': ['Belly Fat'],\n",
      "  'Type': 'C',\n",
      "  'WikidataId': 'Q193583'}]\n"
     ]
    }
   ],
   "source": [
    "import json\n",
    "pprint( json.loads( list(news_pick['Entities_in_News_Title'])[0]) )"
   ]
  },
  {
   "cell_type": "code",
   "execution_count": null,
   "metadata": {},
   "outputs": [],
   "source": []
  }
 ],
 "metadata": {
  "kernelspec": {
   "display_name": "Python 3",
   "language": "python",
   "name": "python3"
  },
  "language_info": {
   "codemirror_mode": {
    "name": "ipython",
    "version": 3
   },
   "file_extension": ".py",
   "mimetype": "text/x-python",
   "name": "python",
   "nbconvert_exporter": "python",
   "pygments_lexer": "ipython3",
   "version": "3.8.3"
  }
 },
 "nbformat": 4,
 "nbformat_minor": 4
}
